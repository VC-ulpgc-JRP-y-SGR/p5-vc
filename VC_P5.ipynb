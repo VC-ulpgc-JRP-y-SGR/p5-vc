{
 "cells": [
  {
   "cell_type": "markdown",
   "metadata": {},
   "source": [
    "#Paquetes necesarios"
   ]
  },
  {
   "cell_type": "markdown",
   "metadata": {},
   "source": [
    "# TRAIN YOLO"
   ]
  },
  {
   "cell_type": "code",
   "execution_count": 6,
   "metadata": {},
   "outputs": [
    {
     "name": "stderr",
     "output_type": "stream",
     "text": [
      "Ultralytics YOLOv8.0.203 🚀 Python-3.11.4 torch-2.1.0 CPU (Intel Core(TM) i7-9750H 2.60GHz)\n",
      "\u001b[34m\u001b[1mengine/trainer: \u001b[0mtask=detect, mode=train, model=yolov8n.pt, data=platedataset/data.yaml, epochs=3, patience=50, batch=16, imgsz=640, save=True, save_period=-1, cache=False, device=None, workers=8, project=None, name=train16, exist_ok=False, pretrained=True, optimizer=auto, verbose=True, seed=0, deterministic=True, single_cls=False, rect=False, cos_lr=False, close_mosaic=10, resume=False, amp=True, fraction=1.0, profile=False, freeze=None, overlap_mask=True, mask_ratio=4, dropout=0.0, val=True, split=val, save_json=False, save_hybrid=False, conf=None, iou=0.7, max_det=300, half=False, dnn=False, plots=True, source=None, show=False, save_txt=False, save_conf=False, save_crop=False, show_labels=True, show_conf=True, vid_stride=1, stream_buffer=False, line_width=None, visualize=False, augment=False, agnostic_nms=False, classes=None, retina_masks=False, boxes=True, format=torchscript, keras=False, optimize=False, int8=False, dynamic=False, simplify=False, opset=None, workspace=4, nms=False, lr0=0.01, lrf=0.01, momentum=0.937, weight_decay=0.0005, warmup_epochs=3.0, warmup_momentum=0.8, warmup_bias_lr=0.1, box=7.5, cls=0.5, dfl=1.5, pose=12.0, kobj=1.0, label_smoothing=0.0, nbs=64, hsv_h=0.015, hsv_s=0.7, hsv_v=0.4, degrees=0.0, translate=0.1, scale=0.5, shear=0.0, perspective=0.0, flipud=0.0, fliplr=0.5, mosaic=1.0, mixup=0.0, copy_paste=0.0, cfg=None, tracker=botsort.yaml, save_dir=runs/detect/train16\n",
      "Overriding model.yaml nc=80 with nc=1\n",
      "\n",
      "                   from  n    params  module                                       arguments                     \n",
      "  0                  -1  1       464  ultralytics.nn.modules.conv.Conv             [3, 16, 3, 2]                 \n",
      "  1                  -1  1      4672  ultralytics.nn.modules.conv.Conv             [16, 32, 3, 2]                \n",
      "  2                  -1  1      7360  ultralytics.nn.modules.block.C2f             [32, 32, 1, True]             \n",
      "  3                  -1  1     18560  ultralytics.nn.modules.conv.Conv             [32, 64, 3, 2]                \n",
      "  4                  -1  2     49664  ultralytics.nn.modules.block.C2f             [64, 64, 2, True]             \n",
      "  5                  -1  1     73984  ultralytics.nn.modules.conv.Conv             [64, 128, 3, 2]               \n",
      "  6                  -1  2    197632  ultralytics.nn.modules.block.C2f             [128, 128, 2, True]           \n",
      "  7                  -1  1    295424  ultralytics.nn.modules.conv.Conv             [128, 256, 3, 2]              \n",
      "  8                  -1  1    460288  ultralytics.nn.modules.block.C2f             [256, 256, 1, True]           \n",
      "  9                  -1  1    164608  ultralytics.nn.modules.block.SPPF            [256, 256, 5]                 \n",
      " 10                  -1  1         0  torch.nn.modules.upsampling.Upsample         [None, 2, 'nearest']          \n",
      " 11             [-1, 6]  1         0  ultralytics.nn.modules.conv.Concat           [1]                           \n",
      " 12                  -1  1    148224  ultralytics.nn.modules.block.C2f             [384, 128, 1]                 \n",
      " 13                  -1  1         0  torch.nn.modules.upsampling.Upsample         [None, 2, 'nearest']          \n",
      " 14             [-1, 4]  1         0  ultralytics.nn.modules.conv.Concat           [1]                           \n",
      " 15                  -1  1     37248  ultralytics.nn.modules.block.C2f             [192, 64, 1]                  \n",
      " 16                  -1  1     36992  ultralytics.nn.modules.conv.Conv             [64, 64, 3, 2]                \n",
      " 17            [-1, 12]  1         0  ultralytics.nn.modules.conv.Concat           [1]                           \n",
      " 18                  -1  1    123648  ultralytics.nn.modules.block.C2f             [192, 128, 1]                 \n",
      " 19                  -1  1    147712  ultralytics.nn.modules.conv.Conv             [128, 128, 3, 2]              \n",
      " 20             [-1, 9]  1         0  ultralytics.nn.modules.conv.Concat           [1]                           \n",
      " 21                  -1  1    493056  ultralytics.nn.modules.block.C2f             [384, 256, 1]                 \n",
      " 22        [15, 18, 21]  1    751507  ultralytics.nn.modules.head.Detect           [1, [64, 128, 256]]           \n",
      "Model summary: 225 layers, 3011043 parameters, 3011027 gradients, 8.2 GFLOPs\n",
      "\n",
      "Transferred 319/355 items from pretrained weights\n",
      "Freezing layer 'model.22.dfl.conv.weight'\n",
      "\u001b[34m\u001b[1mtrain: \u001b[0mScanning /Users/josepenaseco/Desktop/dev/vc/p5/datasets/platedataset/train/labels.cache... 21173 images, 28 backgrounds, 0 corrupt: 100%|██████████| 21173/21173 [00:00<?, ?it/s]\n",
      "\u001b[34m\u001b[1mval: \u001b[0mScanning /Users/josepenaseco/Desktop/dev/vc/p5/datasets/platedataset/valid/labels.cache... 2046 images, 3 backgrounds, 0 corrupt: 100%|██████████| 2046/2046 [00:00<?, ?it/s]\n",
      "Plotting labels to runs/detect/train16/labels.jpg... \n",
      "\u001b[34m\u001b[1moptimizer:\u001b[0m 'optimizer=auto' found, ignoring 'lr0=0.01' and 'momentum=0.937' and determining best 'optimizer', 'lr0' and 'momentum' automatically... \n",
      "\u001b[34m\u001b[1moptimizer:\u001b[0m AdamW(lr=0.002, momentum=0.9) with parameter groups 57 weight(decay=0.0), 64 weight(decay=0.0005), 63 bias(decay=0.0)\n",
      "Image sizes 640 train, 640 val\n",
      "Using 0 dataloader workers\n",
      "Logging results to \u001b[1mruns/detect/train16\u001b[0m\n",
      "Starting training for 3 epochs...\n",
      "\n",
      "      Epoch    GPU_mem   box_loss   cls_loss   dfl_loss  Instances       Size\n",
      "        1/3         0G      1.272      1.243      1.256         10        640: 100%|██████████| 1324/1324 [38:18:20<00:00, 104.15s/it]    \n",
      "                 Class     Images  Instances      Box(P          R      mAP50  mAP50-95): 100%|██████████| 64/64 [8:33:46<00:00, 481.67s/it]    \n",
      "                   all       2046       2132      0.941      0.871      0.938       0.57\n",
      "\n",
      "      Epoch    GPU_mem   box_loss   cls_loss   dfl_loss  Instances       Size\n",
      "        2/3         0G      1.241     0.7688      1.239          9        640: 100%|██████████| 1324/1324 [10:02:01<00:00, 27.28s/it]    \n",
      "                 Class     Images  Instances      Box(P          R      mAP50  mAP50-95): 100%|██████████| 64/64 [11:39<00:00, 10.94s/it]\n",
      "                   all       2046       2132      0.951      0.909      0.946      0.611\n",
      "\n",
      "      Epoch    GPU_mem   box_loss   cls_loss   dfl_loss  Instances       Size\n",
      "        3/3         0G      1.179     0.6524      1.207          8        640: 100%|██████████| 1324/1324 [10:00:57<00:00, 27.23s/it]   \n",
      "                 Class     Images  Instances      Box(P          R      mAP50  mAP50-95): 100%|██████████| 64/64 [06:57<00:00,  6.53s/it]\n",
      "                   all       2046       2132      0.961      0.924      0.961      0.627\n",
      "\n",
      "3 epochs completed in 67.229 hours.\n",
      "Optimizer stripped from runs/detect/train16/weights/last.pt, 6.2MB\n",
      "Optimizer stripped from runs/detect/train16/weights/best.pt, 6.2MB\n",
      "\n",
      "Validating runs/detect/train16/weights/best.pt...\n",
      "Ultralytics YOLOv8.0.203 🚀 Python-3.11.4 torch-2.1.0 CPU (Intel Core(TM) i7-9750H 2.60GHz)\n",
      "Model summary (fused): 168 layers, 3005843 parameters, 0 gradients, 8.1 GFLOPs\n",
      "                 Class     Images  Instances      Box(P          R      mAP50  mAP50-95): 100%|██████████| 64/64 [10:01<00:00,  9.40s/it]\n",
      "                   all       2046       2132      0.961      0.924      0.961      0.627\n",
      "Speed: 2.8ms preprocess, 282.2ms inference, 0.0ms loss, 0.9ms postprocess per image\n",
      "Results saved to \u001b[1mruns/detect/train16\u001b[0m\n"
     ]
    }
   ],
   "source": [
    "from ultralytics import YOLO\n",
    "\n",
    "model = YOLO('yolov8n.pt')\n",
    "results = model.train(data='platedataset/data.yaml', epochs=3)"
   ]
  },
  {
   "cell_type": "code",
   "execution_count": 12,
   "metadata": {},
   "outputs": [],
   "source": [
    "class PlateDetector:\n",
    "    def detect(self, img):\n",
    "        pass\n",
    "\n",
    "class PlateMatcher:\n",
    "    def match(self, text : str) -> bool:\n",
    "        pass\n",
    "\n",
    "class TextProcessor:\n",
    "    def process(self, text : str) -> str:\n",
    "        pass\n",
    "\n",
    "class PlateExtractor:\n",
    "    def __init__(self, matcher : PlateMatcher, processor : TextProcessor):\n",
    "        self.matcher = matcher\n",
    "        self.processor = processor\n",
    "\n",
    "    def extract(self, img):\n",
    "        pass"
   ]
  },
  {
   "cell_type": "code",
   "execution_count": 13,
   "metadata": {},
   "outputs": [],
   "source": [
    "class YOLOPlateDetector(PlateDetector):\n",
    "    def __init__(self, model, category = 0):\n",
    "        self.model = model\n",
    "        self.category = category\n",
    "\n",
    "    def detect(self, img):\n",
    "        from ultralytics import YOLO\n",
    "        model = YOLO(self.model)\n",
    "        results = model(img)\n",
    "        cars = []\n",
    "        for x in results:\n",
    "            boxes = x.boxes\n",
    "            for box in boxes:\n",
    "                x1, y1, x2, y2 = box.xyxy[0]\n",
    "                x1, y1, x2, y2 = int(x1), int(y1), int(x2), int(y2)\n",
    "                category = int(box.cls[0])\n",
    "                if category == 0:\n",
    "                    cars.append(img[y1:y2, x1:x2])\n",
    "        return cars"
   ]
  },
  {
   "cell_type": "code",
   "execution_count": 14,
   "metadata": {},
   "outputs": [],
   "source": [
    "class TesseractPlateExtractor(PlateExtractor):\n",
    "    def extract(self, img):\n",
    "        import pytesseract\n",
    "        pytesseract.pytesseract.tesseract_cmd = r'/usr/local/bin/tesseract'\n",
    "        text = pytesseract.image_to_string(img)\n",
    "        print(text)\n",
    "        matcher = RegexPlateMatcher()\n",
    "        if matcher.match(text):\n",
    "            text = self.processor.process(text)\n",
    "            return text\n",
    "        \n",
    "class EasyOCRPlateExtractor(PlateExtractor):\n",
    "    def extract(self, img):\n",
    "        import easyocr\n",
    "        reader = easyocr.Reader(['es']) \n",
    "        result = reader.readtext(img)\n",
    "        if(len(result) == 0): return \"\"\n",
    "        for x in result:\n",
    "            text = x[1]\n",
    "            text = self.processor.process(text)\n",
    "            if(self.matcher.match(text)):\n",
    "                return text\n",
    "\n",
    "class KerasOCRPlateExtractor(PlateExtractor):\n",
    "    def extract(self, img):\n",
    "        from keras_ocr.detection import Detector\n",
    "        from keras_ocr.recognition import Recognizer\n",
    "        from keras_ocr import pipeline\n",
    "\n",
    "        detector = Detector()\n",
    "        recognizer = Recognizer()\n",
    "        pipeline = pipeline.Pipeline(detector=detector, recognizer=recognizer)\n",
    "        prediction_groups = pipeline.recognize([img])\n",
    "        for group in prediction_groups:\n",
    "            for word in group:\n",
    "                text = word[0]\n",
    "                text = self.processor.process(text)\n",
    "                if(self.matcher.match(text)):\n",
    "                    return text"
   ]
  },
  {
   "cell_type": "code",
   "execution_count": 8,
   "metadata": {},
   "outputs": [],
   "source": [
    "\n",
    "class LengthPlateMatcher(PlateMatcher):\n",
    "    def match(self, text : str) -> bool:\n",
    "        if len(text) == 7: return True\n",
    "        return False\n",
    "\n",
    "class RegexPlateMatcher(PlateMatcher):\n",
    "    def match(self, text : str) -> bool:\n",
    "        pattern = re.compile(\"^[0-9]{4}([B-D]|[F-H]|[J-N]|[P-T]|[V-Z]){3}$\")\n",
    "        if pattern.match(text):\n",
    "            return True\n",
    "        else:\n",
    "            return False"
   ]
  },
  {
   "cell_type": "code",
   "execution_count": 9,
   "metadata": {},
   "outputs": [],
   "source": [
    "class BasicTextProcessor(TextProcessor):\n",
    "    def process(self, text : str) -> str:\n",
    "        text = text.replace(\" \", \"\")\n",
    "        text = text.replace(\"-\", \"\")\n",
    "        return text"
   ]
  },
  {
   "cell_type": "code",
   "execution_count": 17,
   "metadata": {},
   "outputs": [
    {
     "name": "stderr",
     "output_type": "stream",
     "text": [
      "\n",
      "0: 384x640 1 License_Plate, 108.0ms\n",
      "Speed: 2.2ms preprocess, 108.0ms inference, 0.7ms postprocess per image at shape (1, 3, 384, 640)\n"
     ]
    },
    {
     "data": {
      "image/png": "[encoded data removed]",
      "text/plain": [
       "<Figure size 640x480 with 1 Axes>"
      ]
     },
     "metadata": {},
     "output_type": "display_data"
    },
    {
     "name": "stdout",
     "output_type": "stream",
     "text": [
      "['2O21AXP']\n"
     ]
    }
   ],
   "source": [
    "import matplotlib.pyplot as plt\n",
    "import re\n",
    "import cv2 as cv\n",
    "\n",
    "image = cv.imread('./dataset/coches1.jpeg')\n",
    "processor = BasicTextProcessor()\n",
    "matcher = LengthPlateMatcher()\n",
    "detector = YOLOPlateDetector(model='plate_recognizer.pt')\n",
    "extractor = EasyOCRPlateExtractor(matcher, processor)\n",
    "cars = detector.detect(image)\n",
    "detections = [extractor.extract(x) for x in cars]\n",
    "print(detections)"
   ]
  }
 ],
 "metadata": {
  "kernelspec": {
   "display_name": "Python 3.9.13 ('yolov7')",
   "language": "python",
   "name": "python3"
  },
  "language_info": {
   "codemirror_mode": {
    "name": "ipython",
    "version": 3
   },
   "file_extension": ".py",
   "mimetype": "text/x-python",
   "name": "python",
   "nbconvert_exporter": "python",
   "pygments_lexer": "ipython3",
   "version": "3.11.4"
  },
  "orig_nbformat": 4,
  "vscode": {
   "interpreter": {
    "hash": "54711ba1bddc392d48ca20e80feaa9b2e23d43069aa8b98ed16355091034ff6e"
   }
  }
 },
 "nbformat": 4,
 "nbformat_minor": 2
}
